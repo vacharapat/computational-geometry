{
 "cells": [
  {
   "cell_type": "code",
   "execution_count": 1,
   "metadata": {
    "collapsed": true
   },
   "outputs": [],
   "source": [
    "import numpy as np\n",
    "import random\n",
    "import matplotlib.pyplot as plt"
   ]
  },
  {
   "cell_type": "code",
   "execution_count": 2,
   "metadata": {},
   "outputs": [],
   "source": [
    "points = np.random.rand(25, 2) * 100"
   ]
  },
  {
   "cell_type": "code",
   "execution_count": 3,
   "metadata": {},
   "outputs": [
    {
     "data": {
      "image/png": "[encoded data removed]",
      "text/plain": [
       "<matplotlib.figure.Figure at 0x10f70f0f0>"
      ]
     },
     "metadata": {},
     "output_type": "display_data"
    }
   ],
   "source": [
    "plt.scatter(points[:,0], points[:,1], c='r')\n",
    "plt.show()"
   ]
  },
  {
   "cell_type": "code",
   "execution_count": 4,
   "metadata": {},
   "outputs": [],
   "source": [
    "i_start = points[:,0].argmin()\n",
    "d = points - points[i_start]\n",
    "d[i_start,0] = 1e-100\n",
    "d[i_start,1] = 1e1000\n",
    "m = d[:, 1] / d[:, 0]"
   ]
  },
  {
   "cell_type": "code",
   "execution_count": 5,
   "metadata": {},
   "outputs": [],
   "source": [
    "order = m.argsort()"
   ]
  },
  {
   "cell_type": "code",
   "execution_count": 6,
   "metadata": {},
   "outputs": [
    {
     "data": {
      "image/png": "[encoded data removed]",
      "text/plain": [
       "<matplotlib.figure.Figure at 0x10f86bb70>"
      ]
     },
     "metadata": {},
     "output_type": "display_data"
    }
   ],
   "source": [
    "i = i_start\n",
    "hull = [i, order[0]]\n",
    "for j in order[1:]:\n",
    "    v2 = points[j] - points[hull[-1]]\n",
    "    v1 = points[hull[-1]] - points[hull[-2]]\n",
    "    while np.cross(v1, v2) < 0:\n",
    "        hull = hull[:-1]\n",
    "        v2 = points[j] - points[hull[-1]]\n",
    "        v1 = points[hull[-1]] - points[hull[-2]]\n",
    "    hull.append(j)\n",
    "    \n",
    "    \n",
    "plt.scatter(points[:,0], points[:,1], c='r')\n",
    "for i, _ in enumerate(hull):\n",
    "    if i > 0:\n",
    "        plt.plot([points[hull[i-1],0], points[hull[i],0]], [points[hull[i-1], 1], points[hull[i], 1]])\n",
    "plt.show()"
   ]
  },
  {
   "cell_type": "code",
   "execution_count": null,
   "metadata": {
    "collapsed": true
   },
   "outputs": [],
   "source": []
  }
 ],
 "metadata": {
  "kernelspec": {
   "display_name": "Python 3",
   "language": "python",
   "name": "python3"
  },
  "language_info": {
   "codemirror_mode": {
    "name": "ipython",
    "version": 3
   },
   "file_extension": ".py",
   "mimetype": "text/x-python",
   "name": "python",
   "nbconvert_exporter": "python",
   "pygments_lexer": "ipython3",
   "version": "3.6.4"
  }
 },
 "nbformat": 4,
 "nbformat_minor": 2
}
